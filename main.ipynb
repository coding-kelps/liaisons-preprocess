{
 "cells": [
  {
   "cell_type": "markdown",
   "metadata": {},
   "source": [
    "# liaisons-preprocess\n",
    "\n",
    "This notebook outlines the preprocessing steps undertaken to generate datasets used for testing the [liaisons](https://github.com/coding-kelps/liaisons) client and [benchmarking open-source models in predicting argument relations](https://github.com/coding-kelps/liaisons-experiments).\n",
    "\n",
    "## Dataset\n",
    "\n",
    "For this preprocessing task, we utilized IBM's \"Claim Stance Dataset\" as the source. This dataset comprises 2,394 labeled claims across 55 controversial topics, collected from Wikipedia. Each claim is labeled based on its stance towards the topic, either \"PRO\" (supporting the topic) or \"CON\" (opposing the topic), making it an excellent resource for relation-based argument mining tasks.\n",
    "\n",
    "As of now, the dataset is available on [HuggingFace](https://huggingface.co/datasets/ibm/claim_stance). Further details on the original dataset can be found in the paper *Stance Classification of Context-Dependent Claims* (Bar-Haim et al., 2017).\n",
    "\n",
    "## Preprocessing Notes\n",
    "\n",
    "The primary aim of this preprocessing is to create a representative sample of the dataset, thereby reducing computational costs for benchmarking and testing related software."
   ]
  },
  {
   "cell_type": "code",
   "execution_count": null,
   "metadata": {},
   "outputs": [],
   "source": [
    "from datasets import load_dataset\n",
    "\n",
    "# Load dataset from HuggingFace (https://huggingface.co/datasets/ibm/claim_stance)\n",
    "ds = load_dataset(\"ibm/claim_stance\", \"claim_stance\")"
   ]
  },
  {
   "cell_type": "code",
   "execution_count": null,
   "metadata": {},
   "outputs": [],
   "source": [
    "# Extract train subset as pandas dataframe\n",
    "df = ds[\"train\"].to_pandas()"
   ]
  },
  {
   "cell_type": "code",
   "execution_count": null,
   "metadata": {},
   "outputs": [],
   "source": [
    "def stratified_sample(group, frac, keeper):\n",
    "    # Calculate the number of samples for each unique value in the column to preserve\n",
    "    counts = group[keeper].value_counts(normalize=True) * frac * len(group)\n",
    "    counts = counts.round().astype(int)\n",
    "    \n",
    "    # Perform stratified sampling\n",
    "    group = group.groupby(keeper, group_keys=False).apply(lambda x: x.sample(n=counts[x.name]), include_groups=True)\n",
    "\n",
    "    return group\n",
    "\n",
    "# Define the fraction to sample\n",
    "frac = 100 / len(df)\n",
    "\n",
    "# Apply stratified sampling within each group\n",
    "sampled_df = df.groupby(\"topicId\",).apply(lambda x: stratified_sample(x, frac, \"claims.stance\"), include_groups=True)\n",
    "\n",
    "# Reset index if necessary\n",
    "sampled_df = sampled_df.reset_index(drop=True)"
   ]
  },
  {
   "cell_type": "code",
   "execution_count": null,
   "metadata": {},
   "outputs": [],
   "source": [
    "# Extract essentials column for argument relation prediction task\n",
    "clean_df = sampled_df.loc[:, [\"topicText\", \"claims.claimCorrectedText\", \"claims.stance\"]]\n",
    "\n",
    "# Rename column to fit to liaisons-experiments data template\n",
    "clean_df = clean_df.rename(columns={\"topicText\": \"argument_a\", \"claims.claimCorrectedText\": \"argument_b\", \"claims.stance\": \"relation\"})\n",
    "\n",
    "# Rename relation value categories\n",
    "clean_df['relation'] = clean_df['relation'].replace({\"PRO\": \"support\", \"CON\": \"attack\"})"
   ]
  },
  {
   "cell_type": "code",
   "execution_count": null,
   "metadata": {},
   "outputs": [],
   "source": [
    "# Save data to csv\n",
    "clean_df.to_csv(\"./ibm_claim_stance_sample_100.csv\")"
   ]
  },
  {
   "cell_type": "markdown",
   "metadata": {},
   "source": [
    "## Bibliography\n",
    "- Bar-Haim, R., Bhattacharya, I., Dinuzzo, F., Saha, A., and Slonim, N. (2017). Stance classification of context dependent claims. In Proceedings of the 15th Conference of the European Chapter of the Association for Computational Linguistics: Volume 1, Long Papers, pages 251–261."
   ]
  }
 ],
 "metadata": {
  "kernelspec": {
   "display_name": ".venv",
   "language": "python",
   "name": "python3"
  },
  "language_info": {
   "codemirror_mode": {
    "name": "ipython",
    "version": 3
   },
   "file_extension": ".py",
   "mimetype": "text/x-python",
   "name": "python",
   "nbconvert_exporter": "python",
   "pygments_lexer": "ipython3",
   "version": "3.11.8"
  }
 },
 "nbformat": 4,
 "nbformat_minor": 2
}
